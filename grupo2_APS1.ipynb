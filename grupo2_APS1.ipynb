{
 "cells": [
  {
   "cell_type": "markdown",
   "metadata": {},
   "source": [
    "# APS 1 - TRANSFERÊNCIA DE CALOR"
   ]
  },
  {
   "cell_type": "markdown",
   "metadata": {},
   "source": [
    "- Lorran Lopes\n",
    "- Letícia Coelho\n",
    "- Lídia Alves"
   ]
  },
  {
   "cell_type": "markdown",
   "metadata": {},
   "source": [
    "Esta aps tem como objetivo analisar o comportamento térmico de uma aleta tipo pino construída em Alumínio. A geometria dada para o grupo foi tal que:"
   ]
  },
  {
   "cell_type": "markdown",
   "metadata": {},
   "source": [
    "<img src = \"aleta_img.png\">"
   ]
  },
  {
   "cell_type": "markdown",
   "metadata": {},
   "source": [
    "<img src = \"condicoes.png\">"
   ]
  },
  {
   "cell_type": "markdown",
   "metadata": {},
   "source": [
    "#### Importando bibliotecas consideradas essenciais:"
   ]
  },
  {
   "cell_type": "code",
   "execution_count": 126,
   "metadata": {},
   "outputs": [],
   "source": [
    "from math import *\n",
    "import numpy as np\n",
    "import matplotlib.pyplot as plt "
   ]
  },
  {
   "cell_type": "markdown",
   "metadata": {},
   "source": [
    "### Questão 1"
   ]
  },
  {
   "cell_type": "markdown",
   "metadata": {},
   "source": [
    "#### Declarando parâmetros e funções: "
   ]
  },
  {
   "cell_type": "code",
   "execution_count": 127,
   "metadata": {},
   "outputs": [],
   "source": [
    "# Condições Iniciais\n",
    "\n",
    "# Comprimento da aleta (em m)\n",
    "L = 0.15\n",
    "\n",
    "# Diâmetro e raio da aleta (em m)\n",
    "D = 0.24\n",
    "R = D/2\n",
    "\n",
    "# Perímetro da aleta (em m)\n",
    "P = 2*pi*R\n",
    "\n",
    "# Área transversal da aleta (em m^2)\n",
    "Atr = (pi*D**2)/4\n",
    "\n",
    "# Área da superfície da aleta (em m^2)\n",
    "A = Atr + 2*pi*L*R\n",
    "\n",
    "# Coeficiente de convecção térmica (em W/m^2K)\n",
    "h = 25\n",
    "\n",
    "# Coeficiente de condutividade térmica no Alumínio (em W/m.K)\n",
    "k = 240\n",
    "\n",
    "# Temperatura ambiente (em K)\n",
    "Tamb = 25 + 273\n",
    "\n",
    "# Temperatura da base (em K)\n",
    "Tb = 100 + 273"
   ]
  },
  {
   "cell_type": "code",
   "execution_count": 128,
   "metadata": {},
   "outputs": [],
   "source": [
    "def calc_m(h, P, k, Atr):\n",
    "    m = sqrt(h * P/(k * Atr))\n",
    "    return m\n",
    "\n",
    "def calc_M(h, P, k, Atr, Tb, Tamb):\n",
    "    tetab = Tb - Tamb\n",
    "    M = tetab*sqrt(h * P * k * Atr)\n",
    "    return M\n",
    "\n",
    "def dist_temperatura(h, P, k, Atr, L, Tb, Tamb, x):\n",
    "    m = calc_m(h, P, k, Atr)\n",
    "    dist = (cosh(m * (L - x)) + (h / (m * k))*sinh(m * (L - x))) / (cosh(m * L) + (h / (m * k))*sinh(m * L))\n",
    "    tetab = Tb - Tamb\n",
    "    TL = dist*(tetab) + Tamb\n",
    "    return TL\n",
    "\n",
    "def transf_calor(h, P, k, Atr, L, Tb, Tamb):\n",
    "    m = calc_m(h, P, k, Atr)\n",
    "    M = calc_M(k, P, k, Atr, Tb, Tamb)\n",
    "    transf = M * ((sinh(m * L) + (h / (m * k))*cosh(m * L))/(cosh(m * L) + (h / (m * k))*sinh(m * L)))\n",
    "    return transf"
   ]
  },
  {
   "cell_type": "markdown",
   "metadata": {},
   "source": [
    "#### Obtendo o gráfico da distribuição da temperatura de x = 0 até x = L"
   ]
  },
  {
   "cell_type": "code",
   "execution_count": 129,
   "metadata": {},
   "outputs": [
    {
     "data": {
      "image/png": "[encoded data removed]",
      "text/plain": [
       "<Figure size 432x288 with 1 Axes>"
      ]
     },
     "metadata": {
      "needs_background": "light"
     },
     "output_type": "display_data"
    }
   ],
   "source": [
    "lista_T = []\n",
    "lista_x = np.arange(0,L,1e-5)\n",
    "\n",
    "for x in lista_x:\n",
    "    lista_T.append(dist_temperatura(h, P, k, Atr, L, Tb, Tamb, x))\n",
    "\n",
    "plt.title(\"Distribuição da temperatura\")\n",
    "plt.plot(lista_x, lista_T)\n",
    "plt.xlabel(\"Comprimento da aleta [m]\")\n",
    "plt.ylabel(\"Temperatura [K]\")\n",
    "plt.show()"
   ]
  },
  {
   "cell_type": "markdown",
   "metadata": {},
   "source": [
    "#### Temperatura na extremidade da aleta"
   ]
  },
  {
   "cell_type": "code",
   "execution_count": 130,
   "metadata": {},
   "outputs": [
    {
     "name": "stdout",
     "output_type": "stream",
     "text": [
      "A temperatura na extremidade da aleta é de 370.44 K\n"
     ]
    }
   ],
   "source": [
    "print(f\"A temperatura na extremidade da aleta é de {lista_T[-1]:.2f} K\")"
   ]
  },
  {
   "cell_type": "markdown",
   "metadata": {},
   "source": [
    "#### Taxa de transferência de calor na aleta"
   ]
  },
  {
   "cell_type": "code",
   "execution_count": 131,
   "metadata": {},
   "outputs": [
    {
     "name": "stdout",
     "output_type": "stream",
     "text": [
      "A taxa de transferência de calor na aleta é de 897.58 W\n"
     ]
    }
   ],
   "source": [
    "transf = transf_calor(h, P, k, Atr, L, Tb, Tamb)\n",
    "print(f\"A taxa de transferência de calor na aleta é de {transf:.2f} W\")"
   ]
  },
  {
   "cell_type": "markdown",
   "metadata": {},
   "source": [
    "#### Eficiência e efetividade da aleta"
   ]
  },
  {
   "cell_type": "code",
   "execution_count": 132,
   "metadata": {},
   "outputs": [
    {
     "name": "stdout",
     "output_type": "stream",
     "text": [
      "A eficiência na aleta é de 302.34% e a efetividade é de 10.58.\n"
     ]
    }
   ],
   "source": [
    "tetab = Tb - Tamb\n",
    "efic = transf / (A * h * tetab)\n",
    "efet = transf / (Atr * tetab * h)\n",
    "print(f\"A eficiência na aleta é de {efic*100:.2f}% e a efetividade é de {efet:.2f}.\")"
   ]
  },
  {
   "cell_type": "markdown",
   "metadata": {},
   "source": [
    "#### Taxa de transferência de calor assumindo a hipótese da aleta infinita"
   ]
  },
  {
   "cell_type": "code",
   "execution_count": 133,
   "metadata": {},
   "outputs": [
    {
     "name": "stdout",
     "output_type": "stream",
     "text": [
      "A taxa de transferência de calor assumindo a hipótese infinita é de: 1072.94 W\n"
     ]
    }
   ],
   "source": [
    "taxa_inf = calc_M(h, P, k, Atr, Tb, Tamb)\n",
    "print(f\"A taxa de transferência de calor assumindo a hipótese infinita é de: {taxa:.2f} W\")"
   ]
  },
  {
   "cell_type": "code",
   "execution_count": 134,
   "metadata": {},
   "outputs": [
    {
     "name": "stdout",
     "output_type": "stream",
     "text": [
      "Ocorreu uma diferença, o que era esperado, já que com maior comprimento da aleta, maior taxa de transferência ela vai ter até chegar ao limite.\n"
     ]
    }
   ],
   "source": [
    "print(\"Ocorreu uma diferença, o que era esperado, já que com maior comprimento da aleta, maior taxa de transferência ela vai ter até chegar ao limite.\")"
   ]
  },
  {
   "cell_type": "markdown",
   "metadata": {},
   "source": [
    "#### Comprimento da aleta para a medida precisa da taxa de transferência"
   ]
  },
  {
   "cell_type": "code",
   "execution_count": 139,
   "metadata": {},
   "outputs": [],
   "source": [
    "# Considerando uma tolerância de 1%\n",
    "TOL = 0.01\n",
    "lista_transf = []\n",
    "lista_x2 = np.arange(0,20,1e-6)\n",
    "for x in lista_x2:\n",
    "    lista_transf.append(transf_calor(h, P, k, Atr, x, Tb, Tamb))\n",
    "\n",
    "indice = 0\n",
    "\n",
    "for i in range(0,len(lista_transf)):\n",
    "    if abs(lista_transf[i] - taxa_inf) < TOL:\n",
    "        indice = i"
   ]
  },
  {
   "cell_type": "code",
   "execution_count": 140,
   "metadata": {},
   "outputs": [
    {
     "name": "stdout",
     "output_type": "stream",
     "text": [
      "Portanto, o comprimento da aleta para a taxa de transferência ser precisa é 0.1939 m, ou seja, 193.91 mm\n"
     ]
    }
   ],
   "source": [
    "print(f\"Portanto, o comprimento da aleta para a taxa de transferência ser precisa é {lista_x2[indice]:.4f} m, ou seja, {lista_x2[indice]*1000:.2f} mm\")"
   ]
  }
 ],
 "metadata": {
  "kernelspec": {
   "display_name": "Python 3",
   "language": "python",
   "name": "python3"
  },
  "language_info": {
   "codemirror_mode": {
    "name": "ipython",
    "version": 3
   },
   "file_extension": ".py",
   "mimetype": "text/x-python",
   "name": "python",
   "nbconvert_exporter": "python",
   "pygments_lexer": "ipython3",
   "version": "3.8.5"
  }
 },
 "nbformat": 4,
 "nbformat_minor": 4
}
